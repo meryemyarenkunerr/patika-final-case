{
 "cells": [
  {
   "cell_type": "markdown",
   "id": "f6be94a9",
   "metadata": {},
   "source": [
    "# Kredi Kartı Harcama Analizi"
   ]
  },
  {
   "cell_type": "code",
   "execution_count": null,
   "id": "cfad106d",
   "metadata": {},
   "outputs": [],
   "source": [
    "# gerekli kutuphaneler\n",
    "import pandas as pd\n",
    "import numpy as np\n",
    "import matplotlib.pyplot as plt\n",
    "import seaborn as sns\n",
    "\n",
    "import warnings\n",
    "warnings.simplefilter(\"ignore\")"
   ]
  },
  {
   "cell_type": "code",
   "execution_count": null,
   "id": "77ccfdca",
   "metadata": {},
   "outputs": [],
   "source": [
    "users = pd.read_csv(\"users.csv\")\n",
    "transactions = pd.read_csv(\"transactions.csv\")"
   ]
  },
  {
   "cell_type": "markdown",
   "id": "1368ea92",
   "metadata": {},
   "source": [
    "### Veri Setlerinin İncelenmesi"
   ]
  },
  {
   "cell_type": "code",
   "execution_count": null,
   "id": "be73575d",
   "metadata": {},
   "outputs": [],
   "source": [
    "users.head()"
   ]
  },
  {
   "cell_type": "code",
   "execution_count": null,
   "id": "5aedef1d",
   "metadata": {},
   "outputs": [],
   "source": [
    "users.info()"
   ]
  },
  {
   "cell_type": "markdown",
   "id": "90507577",
   "metadata": {},
   "source": [
    "Users veri setindeki bazı sütunlarının (_Per Capital Income - Zip Code_, _Yearly Income - Person_ ve _Total Debt_) başında `$` işareti bulunuyor. Bu dolar işaretlerini kaldırıp daha sonrasında bu sütunların tipini numeric (`float`) yapmalıyız, bu sayede daha kolay analiz yapabiliriz."
   ]
  },
  {
   "cell_type": "code",
   "execution_count": null,
   "id": "0c13ca5d",
   "metadata": {},
   "outputs": [],
   "source": [
    "for col in [\"Per Capita Income - Zipcode\", \"Yearly Income - Person\", \"Total Debt\"]:\n",
    "\tusers[col] = users[col].astype(str).str.replace('$', '', regex= False).astype(float)"
   ]
  },
  {
   "cell_type": "code",
   "execution_count": null,
   "id": "171ee6ed",
   "metadata": {},
   "outputs": [],
   "source": [
    "users.head()"
   ]
  },
  {
   "cell_type": "markdown",
   "id": "98edf6d0",
   "metadata": {},
   "source": [
    "_Apartment_ sütunu çok fazla `NaN` değere sahip. Bu şekilde bırakmak veri setinin tutarsız olmasına sebep olur, bu sebeple boş değerleri `None` yapmalıyız."
   ]
  },
  {
   "cell_type": "code",
   "execution_count": null,
   "id": "97c26cb4",
   "metadata": {},
   "outputs": [],
   "source": [
    "users[\"Apartment\"] = users[\"Apartment\"].fillna(\"None\").astype(str)"
   ]
  },
  {
   "cell_type": "markdown",
   "id": "2d31d7e2",
   "metadata": {},
   "source": [
    "_Zipcode_ sütunu tanımlayıcıdır ve bu sebeple sayısal bir değer tutması doğru değildir, çünkü hem üzerinde matematiksel işlem yapılmayacak hem de bazı zip kodları `0` ile başlayabilir."
   ]
  },
  {
   "cell_type": "code",
   "execution_count": null,
   "id": "4ad1ae73",
   "metadata": {},
   "outputs": [],
   "source": [
    "users[\"Zipcode\"] = users[\"Zipcode\"].astype(str)"
   ]
  },
  {
   "cell_type": "markdown",
   "id": "b4ba378d",
   "metadata": {},
   "source": [
    "_Gender_ sütunu tek bir cinsiyeti belirten birden fazla değere sahip olabilir, örneğin kadın için hem \"F\" hem de \"Female\" bulunabilir. Bunu kontrol etmeliyiz."
   ]
  },
  {
   "cell_type": "code",
   "execution_count": null,
   "id": "d25c489a",
   "metadata": {},
   "outputs": [],
   "source": [
    "users[\"Gender\"].unique()"
   ]
  },
  {
   "cell_type": "markdown",
   "id": "305fde1e",
   "metadata": {},
   "source": [
    "_Age_ sütunu gerçekçi bir aralık belirtmeli."
   ]
  },
  {
   "cell_type": "code",
   "execution_count": null,
   "id": "1d21ebfb",
   "metadata": {},
   "outputs": [],
   "source": [
    "users[\"Current Age\"].value_counts().sort_index()"
   ]
  },
  {
   "cell_type": "markdown",
   "id": "47b6eca7",
   "metadata": {},
   "source": [
    "Eğer herhangi bir tekrarlama varsa bunlar kaldırılmalı."
   ]
  },
  {
   "cell_type": "code",
   "execution_count": null,
   "id": "45df86c5",
   "metadata": {},
   "outputs": [],
   "source": [
    "users.drop_duplicates(subset=[\"User\"], inplace= True)"
   ]
  },
  {
   "cell_type": "code",
   "execution_count": null,
   "id": "fe1b9eea",
   "metadata": {},
   "outputs": [],
   "source": [
    "# son hali\n",
    "users.head()"
   ]
  },
  {
   "cell_type": "code",
   "execution_count": null,
   "id": "806c301e",
   "metadata": {},
   "outputs": [],
   "source": [
    "users.info()"
   ]
  },
  {
   "cell_type": "markdown",
   "id": "cc8ba249",
   "metadata": {},
   "source": [
    "Benzer işlemleri `transactions` veriseti için de yapmalıyız. "
   ]
  },
  {
   "cell_type": "code",
   "execution_count": null,
   "id": "ce0d80b0",
   "metadata": {},
   "outputs": [],
   "source": [
    "transactions.head()"
   ]
  },
  {
   "cell_type": "code",
   "execution_count": null,
   "id": "8996211f",
   "metadata": {},
   "outputs": [],
   "source": [
    "transactions.info()"
   ]
  },
  {
   "cell_type": "markdown",
   "id": "aa588c0c",
   "metadata": {},
   "source": [
    "`Merchant State` ve `Zip` sütunlarında boş değerler var. Dikkatli bakıldığında `Merchant State` değeri boş olan girdilerde `Merchant City` sütunu değerlerinin tamamının 'ONLINE' olduğunu görüyoruz. Buradan işlemlerin fiziksel bir mağazada değil online bir şekilde gerçekleştirildiğini çıkarabiliriz. Veri temizleme açısından `Merchant State`'i \"Online\" veya \"Virtual\" gibi bir kategori ile doldurmak daha anlamlı olabilir. Bu açıdan `Zip`değerlerini de 0 ile doldurup string veri tipi ile değiştirebiliriz."
   ]
  },
  {
   "cell_type": "code",
   "execution_count": null,
   "id": "5f041786",
   "metadata": {},
   "outputs": [],
   "source": [
    "transactions[transactions[\"Merchant State\"].isna()]"
   ]
  },
  {
   "cell_type": "code",
   "execution_count": null,
   "id": "99183310",
   "metadata": {},
   "outputs": [],
   "source": [
    "transactions[transactions[\"Merchant State\"].isna()][\"Merchant City\"].unique()"
   ]
  },
  {
   "cell_type": "code",
   "execution_count": null,
   "id": "ee0e4141",
   "metadata": {},
   "outputs": [],
   "source": [
    "transactions[\"Merchant State\"] = transactions.apply(\n",
    "\tlambda x: \"Online\"\n",
    "\tif pd.isna(x[\"Merchant State\"]) and x[\"Merchant City\"] == \"ONLINE\"\n",
    "\telse x[\"Merchant State\"],\n",
    "\taxis= 1\n",
    ")"
   ]
  },
  {
   "cell_type": "code",
   "execution_count": null,
   "id": "c8e4d97c",
   "metadata": {},
   "outputs": [],
   "source": [
    "transactions[\"Zip\"] = transactions[\"Zip\"].fillna(0).astype(int).astype(str)"
   ]
  },
  {
   "cell_type": "code",
   "execution_count": null,
   "id": "d44f3905",
   "metadata": {},
   "outputs": [],
   "source": [
    "transactions[transactions[\"Merchant State\"] == \"Online\"]"
   ]
  },
  {
   "cell_type": "markdown",
   "id": "27295124",
   "metadata": {},
   "source": [
    "`Is Fraud?` sütunu binary bir sütun (Yes/No), bu değerleri 0/1 şeklinde sayısal veri olarak tutmak ileride modellemeyi kolaylaştırabilir."
   ]
  },
  {
   "cell_type": "code",
   "execution_count": null,
   "id": "d6b93536",
   "metadata": {},
   "outputs": [],
   "source": [
    "transactions[\"Is Fraud?\"] = transactions[\"Is Fraud?\"].map({\"Yes\": 1, \"No\": 0})"
   ]
  },
  {
   "cell_type": "markdown",
   "id": "1ab1ebda",
   "metadata": {},
   "source": [
    "Veri setinde zamanı ifade etmek için 4 farklı sütun kullanılmış (`Year`, `Month`, `Day` ve `Time`), bu sütunları birleştirerek tek bir `datetime`kolonu oluşturmak zaman bazlı analizleri kolaylaştırabilir."
   ]
  },
  {
   "cell_type": "code",
   "execution_count": null,
   "id": "0ce15435",
   "metadata": {},
   "outputs": [],
   "source": [
    "transactions[\"Date\"] = pd.to_datetime(\n",
    "\ttransactions[\"Year\"].astype(str) + \"-\" +\n",
    "\ttransactions[\"Month\"].astype(str) + \"-\" +\n",
    "\ttransactions[\"Day\"].astype(str) + \" \" +\n",
    "\ttransactions[\"Time\"]\n",
    ")\n",
    "\n",
    "transactions.drop(columns=[\"Year\", \"Month\", \"Day\", \"Time\"], inplace= True)"
   ]
  },
  {
   "cell_type": "code",
   "execution_count": null,
   "id": "7889cc93",
   "metadata": {},
   "outputs": [],
   "source": [
    "transactions.head()"
   ]
  },
  {
   "cell_type": "markdown",
   "id": "981b9457",
   "metadata": {},
   "source": [
    "`Merchant Name` sütunu her ne kadar sayısal bir değermiş gibi görünse de aslında kategoriktir. String'e çevirmek analiz ve gruplama işlemlerini kolaylaştırabilir."
   ]
  },
  {
   "cell_type": "code",
   "execution_count": null,
   "id": "eb339e92",
   "metadata": {},
   "outputs": [],
   "source": [
    "transactions[\"Merchant Name\"] = transactions[\"Merchant Name\"].astype(str)"
   ]
  },
  {
   "cell_type": "markdown",
   "id": "4b721563",
   "metadata": {},
   "source": [
    "`Errors?` sütununda çok fazla boş değer var fakat bu sütun ileride dolandırıcılık tahminlerinde kullanılabilecek önemli verileri içerebilir, bu sebeple `Is Fraud?` sütunundan \"0\" gelen satırlarda `Errors?` sütunlarına \"No Error\" yazmak doğru bir yaklaşım olabilir."
   ]
  },
  {
   "cell_type": "code",
   "execution_count": null,
   "id": "653be446",
   "metadata": {},
   "outputs": [],
   "source": [
    "transactions.loc[(transactions[\"Is Fraud?\"] == 0) &\n",
    "\t\t\t\t (transactions[\"Errors?\"].isna()), \"Errors?\"] = \"No Error\""
   ]
  },
  {
   "cell_type": "markdown",
   "id": "e0130548",
   "metadata": {},
   "source": [
    "`Is Fraud?` sütunundan \"1\" gelen satırlarda `Errors?` sütunlarına \"Unknown Error\" gibi bir etiket atmak daha güvenli olur."
   ]
  },
  {
   "cell_type": "code",
   "execution_count": null,
   "id": "44d732b8",
   "metadata": {},
   "outputs": [],
   "source": [
    "transactions.loc[(transactions[\"Is Fraud?\"] == 1) &\n",
    "\t\t\t\t (transactions[\"Errors?\"].isna()), \"Errors?\"] = \"Unknown Error\""
   ]
  },
  {
   "cell_type": "markdown",
   "id": "37557109",
   "metadata": {},
   "source": [
    "Tekrarlı veri varsa onları da kaldırmalıyız."
   ]
  },
  {
   "cell_type": "code",
   "execution_count": null,
   "id": "55395b9f",
   "metadata": {},
   "outputs": [],
   "source": [
    "transactions.drop_duplicates(inplace= True)"
   ]
  },
  {
   "cell_type": "code",
   "execution_count": null,
   "id": "b22f7bdd",
   "metadata": {},
   "outputs": [],
   "source": [
    "# son hali\n",
    "transactions.head()"
   ]
  },
  {
   "cell_type": "code",
   "execution_count": null,
   "id": "4442a5b7",
   "metadata": {},
   "outputs": [],
   "source": [
    "transactions.info()"
   ]
  },
  {
   "cell_type": "markdown",
   "id": "c8caf2b6",
   "metadata": {},
   "source": [
    "### Veri Setlerinin Birleştirilmesi"
   ]
  },
  {
   "cell_type": "code",
   "execution_count": null,
   "id": "9abf59c9",
   "metadata": {},
   "outputs": [],
   "source": [
    "merged_df = transactions.merge(users, on= \"User\", how= \"inner\")\n",
    "merged_df.to_csv(\"merged_df.csv\", index= False)"
   ]
  },
  {
   "cell_type": "code",
   "execution_count": null,
   "id": "0c07133a",
   "metadata": {},
   "outputs": [],
   "source": [
    "merged_df.head()"
   ]
  },
  {
   "cell_type": "code",
   "execution_count": null,
   "id": "db7bb8ff",
   "metadata": {},
   "outputs": [],
   "source": [
    "merged_df.info()"
   ]
  },
  {
   "cell_type": "markdown",
   "id": "01ccf101",
   "metadata": {},
   "source": [
    "### Yapılacak İşlemler"
   ]
  },
  {
   "cell_type": "code",
   "execution_count": null,
   "id": "ce83a72d",
   "metadata": {},
   "outputs": [],
   "source": [
    "merged_df.columns"
   ]
  },
  {
   "cell_type": "markdown",
   "id": "d664b741",
   "metadata": {},
   "source": [
    "***En Fazla Harcama Yapılan Şehirler***\n",
    "\n",
    "1. `Merchant City` kolonuna göre toplam harcama miktarını hesaplayın.\n",
    "\n",
    "2. En fazla harcama yapılan ilk 10 şehri sıralayarak bir bar grafik ile gösterin."
   ]
  },
  {
   "cell_type": "code",
   "execution_count": null,
   "id": "7f1e0ff3",
   "metadata": {},
   "outputs": [],
   "source": [
    "# 1.\n",
    "city_spending = merged_df.groupby(\"Merchant City\")[\"Amount\"].sum().sort_values(ascending= False)\n",
    "city_spending.head(10)"
   ]
  },
  {
   "cell_type": "code",
   "execution_count": null,
   "id": "f066e93a",
   "metadata": {},
   "outputs": [],
   "source": [
    "# 2.\n",
    "top10_cities = city_spending.head(10) # ilk 10 şehir\n",
    "\n",
    "plt.figure(figsize=(10, 6))\n",
    "top10_cities.plot(kind= \"bar\", color= \"green\", edgecolor= \"black\")\n",
    "\n",
    "plt.title(\"En Çok Harcama Yapılan 10 Şehir\", fontsize= 14)\n",
    "plt.xlabel(\"Şehir\", fontsize= 12)\n",
    "plt.ylabel(\"Toplam Harcama\", fontsize= 12)\n",
    "plt.xticks(rotation= 45, ha= \"right\")\n",
    "plt.savefig(\"images/graphs/en_fazla_harcama_10.png\")\n",
    "plt.show()"
   ]
  },
  {
   "cell_type": "markdown",
   "id": "5631ee6b",
   "metadata": {},
   "source": [
    "**Sonuç**\n",
    "\n",
    "En çok harcamanın yapıldığı şehir La Verne olurken, onu açık ara farkla Monterey Park ve Mira Loma takip ediyor. Dikkat çekici olan diğer bir nokta ise, Online işlemlerinin dördüncü sırada olması. Bu durum kullanıcıların fiziksel mağazalar dışında çevrim içi alışverile de yoğun şekilde yöneldiğini gösteriyor."
   ]
  },
  {
   "cell_type": "markdown",
   "id": "28a2ce2f",
   "metadata": {},
   "source": [
    "***Saatlik Harcama Dağılımı***\n",
    "\n",
    "1. Her saate karşılık gelen toplam harcamayı hesaplayın.\n",
    "\n",
    "2. Sonuçları bir çizgi grafik ile gösterin."
   ]
  },
  {
   "cell_type": "code",
   "execution_count": null,
   "id": "a2db48cb",
   "metadata": {},
   "outputs": [],
   "source": [
    "# 1.\n",
    "merged_df[\"Hour\"] = merged_df[\"Date\"].dt.hour\n",
    "hourly_spending = merged_df.groupby(\"Hour\")[\"Amount\"].sum()\n",
    "hourly_spending"
   ]
  },
  {
   "cell_type": "code",
   "execution_count": null,
   "id": "9a1a1fd2",
   "metadata": {},
   "outputs": [],
   "source": [
    "# 2.\n",
    "plt.figure(figsize= (10, 6))\n",
    "hourly_spending.plot(kind= \"line\", marker= \"o\", linestyle= \"-\", color= \"blue\")\n",
    "\n",
    "plt.title(\"Saatlik Harcama Dağılımı\", fontsize= 14)\n",
    "plt.xlabel(\"Saat\", fontsize= 12)\n",
    "plt.ylabel(\"Toplam Harcama\", fontsize= 12)\n",
    "plt.xticks(range(0, 24))\n",
    "plt.savefig(\"images/graphs/saatlik_harcama.png\")\n",
    "plt.show()"
   ]
  },
  {
   "cell_type": "markdown",
   "id": "8bbd3472",
   "metadata": {},
   "source": [
    "**Sonuç**\n",
    "\n",
    "En büyük harcama yoğunluğu sabah 6.00’da gerçekleşmiş. Bu kadar yüksek bir sıçrama, ya çok büyük tekil işlemlerden ya da belirli bir kampanya/promosyon etkisinden kaynaklanıyor olabilir. Ayrıca öğle 13.00 civarında da dikkat çekici bir artış var, bu da öğle tatilinde yapılan alışverişlere işaret edebilir. Akşam saatlerinde ise özellikle 20.00’de tekrar belirgin bir harcama artışı gözleniyor.\n",
    "\n",
    "Gece yarısı ve sabaha karşı (0.00–4.00 arası) harcamalar oldukça düşük seviyede kalmış; bu da alışverişlerin ağırlıklı olarak gündüz ve akşam saatlerinde yoğunlaştığını gösteriyor."
   ]
  },
  {
   "cell_type": "markdown",
   "id": "42decc8b",
   "metadata": {},
   "source": [
    "***Cinsiyete Göre Harcama***\n",
    "\n",
    "1. Kullanıcıların cinsiyetine göre toplam harcama miktarlarını gruplandırın.\n",
    "\n",
    "2. Bar grafik yardımıyla karşılaştırma yapın."
   ]
  },
  {
   "cell_type": "code",
   "execution_count": null,
   "id": "30ea5bef",
   "metadata": {},
   "outputs": [],
   "source": [
    "# 1.\n",
    "gender_spending = merged_df.groupby(\"Gender\")[\"Amount\"].sum().sort_values(ascending= False)\n",
    "gender_spending"
   ]
  },
  {
   "cell_type": "code",
   "execution_count": null,
   "id": "9ff51bf2",
   "metadata": {},
   "outputs": [],
   "source": [
    "#2.\n",
    "plt.figure(figsize=(6,4))\n",
    "gender_spending.plot(kind=\"bar\", color=[\"red\", \"blue\"])\n",
    "\n",
    "plt.title(\"Cinsiyete Göre Toplam Harcama\")\n",
    "plt.xlabel(\"Cinsiyet\")\n",
    "plt.ylabel(\"Toplam Harcama ($)\")\n",
    "plt.xticks(rotation=0)\n",
    "plt.savefig(\"images/graphs/cinsiyete_gore_harcama.png\")\n",
    "plt.show()"
   ]
  },
  {
   "cell_type": "markdown",
   "id": "ff6afaac",
   "metadata": {},
   "source": [
    "**Sonuç**\n",
    "\n",
    "Kullanıcıların cinsiyetlerine göre toplam harcama miktarları oldukçayakın. Kadın kullanıcılar toplam harcamada erkeklerden biraz önde, ancak fark çok büyük değil. Bu, her iki cinsiyetin de harcama alışkanlıklarının genel olarak dengeli olduğunu gösteriyor."
   ]
  },
  {
   "cell_type": "markdown",
   "id": "cdf117d7",
   "metadata": {},
   "source": [
    "***Gelire Göre Harcama***\n",
    "\n",
    "1. `Yearly Income - Person` kolonundaki `$` işaretini kaldırarak sayıya çevirin. (bunu zaten yapmıştık yukarıda)\n",
    "\n",
    "2. Yıllık gelir ile harcama miktarı arasındaki ilişkiyi dağılım grafiği (scatter plot) ile gösterin."
   ]
  },
  {
   "cell_type": "code",
   "execution_count": null,
   "id": "08750fe1",
   "metadata": {},
   "outputs": [],
   "source": [
    "# 2.\n",
    "plt.figure(figsize= (10, 6))\n",
    "plt.scatter(\n",
    "\tmerged_df[\"Yearly Income - Person\"],\n",
    "\tmerged_df[\"Amount\"], alpha= 0.3, s=10, color= \"green\"\n",
    ")\n",
    "\n",
    "plt.title(\"Yıllık Gelir vs Harcama Miktarı\")\n",
    "plt.xlabel(\"Yıllık Gelir ($)\")\n",
    "plt.ylabel(\"Harcama Miktarı ($)\")\n",
    "plt.show()"
   ]
  },
  {
   "cell_type": "markdown",
   "id": "176e2d33",
   "metadata": {},
   "source": [
    "Grafik bu haliyle pek okunaklı değil, daha okunabilir hale getirmeyi deneyebiliriz."
   ]
  },
  {
   "cell_type": "code",
   "execution_count": null,
   "id": "78571622",
   "metadata": {},
   "outputs": [],
   "source": [
    "x = merged_df[\"Yearly Income - Person\"]\n",
    "y = merged_df[\"Amount\"]\n",
    "\n",
    "# log dönüşümü\n",
    "log_x = np.log1p(x)\n",
    "\n",
    "plt.figure(figsize=(8,6))\n",
    "plt.scatter(log_x, y, alpha=0.3, s=10, color=\"green\")\n",
    "\n",
    "plt.title(\"Yıllık Gelir vs Harcama Miktarı (Log Scale)\")\n",
    "plt.xlabel(\"Yıllık Gelir (Log $)\")\n",
    "plt.ylabel(\"Harcama Miktarı (Log $)\")\n",
    "plt.savefig(\"images/graphs/yillik_gelir_vs_harcama.png\")\n",
    "plt.show()"
   ]
  },
  {
   "cell_type": "markdown",
   "id": "3e2d5151",
   "metadata": {},
   "source": [
    "**Sonuç**\n",
    "\n",
    "Genel olarak gelir arttıkça harcama da artıyor fakat çok sıkışık, özellikle orta gelir aralığında çok fazla nokta var. Düşük ve yüksek gelirlerde çok fazla uç nokta var, log scale bunu biraz düzeltmeye çalıştık ama hala yoğunluk farkları mevcut. Trend çizgisi eklenirsegenel artış eğilimi rahatça görülebilir."
   ]
  },
  {
   "cell_type": "markdown",
   "id": "f4c33584",
   "metadata": {},
   "source": [
    "### Aşama 3: Değerlendirme\n",
    "\n",
    "ChatGPT'nin örneği (Python): Yaşa Göre Ortalama Harcama"
   ]
  },
  {
   "cell_type": "code",
   "execution_count": null,
   "id": "2024c752",
   "metadata": {},
   "outputs": [],
   "source": [
    "# Yaş gruplarını oluştur\n",
    "bins = [18, 25, 35, 45, 55, 65, 75, 85, 100]\n",
    "labels = [\"18-24\",\"25-34\",\"35-44\",\"45-54\",\"55-64\",\"65-74\",\"75-84\",\"85+\"]\n",
    "merged_df[\"Age Group\"] = pd.cut(merged_df[\"Current Age\"], bins=bins, labels=labels, right=False)\n",
    "\n",
    "# Yaş grubuna göre ortalama harcama\n",
    "age_spending = merged_df.groupby(\"Age Group\")[\"Amount\"].mean().reset_index()\n",
    "\n",
    "# Bar chart\n",
    "plt.figure(figsize=(10,6))\n",
    "sns.barplot(x=\"Age Group\", y=\"Amount\", data=age_spending ,palette=\"viridis\")\n",
    "plt.title(\"Yaş Gruplarına Göre Ortalama Harcama\")\n",
    "plt.xlabel(\"Yaş Grubu\")\n",
    "plt.ylabel(\"Ortalama Harcama (USD)\")\n",
    "plt.savefig(\"images/graphs/chatgpt_ornegi.png\")\n",
    "plt.show()"
   ]
  }
 ],
 "metadata": {
  "kernelspec": {
   "display_name": "Python 3",
   "language": "python",
   "name": "python3"
  },
  "language_info": {
   "codemirror_mode": {
    "name": "ipython",
    "version": 3
   },
   "file_extension": ".py",
   "mimetype": "text/x-python",
   "name": "python",
   "nbconvert_exporter": "python",
   "pygments_lexer": "ipython3",
   "version": "3.12.3"
  }
 },
 "nbformat": 4,
 "nbformat_minor": 5
}
